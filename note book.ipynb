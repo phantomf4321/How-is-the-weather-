{
 "cells": [
  {
   "cell_type": "markdown",
   "id": "2ec7c8db",
   "metadata": {},
   "source": [
    "  ### Libs:"
   ]
  },
  {
   "cell_type": "code",
   "execution_count": 1,
   "id": "8d688683",
   "metadata": {},
   "outputs": [],
   "source": [
    "from pywttr import Wttr"
   ]
  },
  {
   "cell_type": "markdown",
   "id": "7e08ff3b",
   "metadata": {},
   "source": [
    "### Input:\n",
    "Get the city name from the user"
   ]
  },
  {
   "cell_type": "code",
   "execution_count": 2,
   "id": "962747d3",
   "metadata": {},
   "outputs": [
    {
     "name": "stdout",
     "output_type": "stream",
     "text": [
      "Enter Your City: Tehran\n"
     ]
    }
   ],
   "source": [
    "city=input(\"Enter Your City: \")"
   ]
  },
  {
   "cell_type": "markdown",
   "id": "df53d4d2",
   "metadata": {},
   "source": [
    "### Example:\n",
    "Today's average temperature of the desired city is stored in the temp variable. For this purpose, the en command is used.\n",
    "Other languages may also be used instead of en. For a complete list of supported languages, follow the code completion in your IDE."
   ]
  },
  {
   "cell_type": "code",
   "execution_count": 3,
   "id": "96398245",
   "metadata": {},
   "outputs": [],
   "source": [
    "wttr = Wttr(city)\n",
    "forecast = wttr.en()\n",
    "temp = forecast.weather[0].avgtemp_c"
   ]
  },
  {
   "cell_type": "markdown",
   "id": "e83087a7",
   "metadata": {},
   "source": [
    "### Print data:"
   ]
  },
  {
   "cell_type": "code",
   "execution_count": 4,
   "id": "3b619463",
   "metadata": {},
   "outputs": [
    {
     "name": "stdout",
     "output_type": "stream",
     "text": [
      "Today's average temperature in  Tehran  is  4 °C\n"
     ]
    }
   ],
   "source": [
    "print(\"Today's average temperature in \", city, \" is \", temp, \"°C\")"
   ]
  }
 ],
 "metadata": {
  "kernelspec": {
   "display_name": "Python 3 (ipykernel)",
   "language": "python",
   "name": "python3"
  },
  "language_info": {
   "codemirror_mode": {
    "name": "ipython",
    "version": 3
   },
   "file_extension": ".py",
   "mimetype": "text/x-python",
   "name": "python",
   "nbconvert_exporter": "python",
   "pygments_lexer": "ipython3",
   "version": "3.10.6"
  }
 },
 "nbformat": 4,
 "nbformat_minor": 5
}
